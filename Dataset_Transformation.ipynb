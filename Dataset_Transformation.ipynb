{
  "nbformat": 4,
  "nbformat_minor": 0,
  "metadata": {
    "colab": {
      "provenance": [],
      "authorship_tag": "ABX9TyOWQHCW0xNT5yUXw0ssDaKP",
      "include_colab_link": true
    },
    "kernelspec": {
      "name": "python3",
      "display_name": "Python 3"
    },
    "language_info": {
      "name": "python"
    }
  },
  "cells": [
    {
      "cell_type": "markdown",
      "metadata": {
        "id": "view-in-github",
        "colab_type": "text"
      },
      "source": [
        "<a href=\"https://colab.research.google.com/github/RaquelHernanz/Proyects_II_HeartDataset/blob/master/Dataset_Transformation.ipynb\" target=\"_parent\"><img src=\"https://colab.research.google.com/assets/colab-badge.svg\" alt=\"Open In Colab\"/></a>"
      ]
    },
    {
      "cell_type": "markdown",
      "source": [
        "# Libraries"
      ],
      "metadata": {
        "id": "RG1lngeFll0G"
      }
    },
    {
      "cell_type": "code",
      "source": [
        "import pandas as pd\n",
        "import numpy as np\n",
        "import random\n",
        "import copy\n",
        "import os\n",
        "import math\n",
        "\n",
        "# Visualización\n",
        "import seaborn as sns\n",
        "import matplotlib.pyplot as plt\n",
        "import plotly.express as px"
      ],
      "metadata": {
        "id": "dh2f1Q-allHx"
      },
      "execution_count": null,
      "outputs": []
    },
    {
      "cell_type": "markdown",
      "source": [
        "# 1. About missing rows and duplicates\n",
        "\n",
        "As it was mentioned before, there no missing rows in the dataset and the idea of removing the duplicates is discarded because the patients cannot be identified from on to another. So in this aspect no modifications are required."
      ],
      "metadata": {
        "id": "xezljWR2xpEz"
      }
    },
    {
      "cell_type": "markdown",
      "source": [
        "# 2. Outlier values and unbalanced ratio\n",
        "\n",
        "On the one hand, some of the features present outliers that have made the histograms to become skewn or shifted towards one side, instead of presenting a normal distribution. If they were inside the usual physiological values no modification will be required, however it is not the case. For instance, a cholesterol level of 526 or 564 mmHg is not normal even for a human being. On the other, the sex attribute is completely unbalanced, only having 25% of females is detrimental for future uses of the dataset for modelling predictions.\n",
        "\n",
        "Proposed solutions:\n",
        "- For the oulier values is better to remove the patients or to modified the value column were the outlier is present, so the tail of the histogram becomes shorter or dissapears.\n",
        "- For the unbalanced sex ratio sampling, adding or creating more synthetic female patients might be a better approaches."
      ],
      "metadata": {
        "id": "THCVYAOhyDpg"
      }
    },
    {
      "cell_type": "code",
      "source": [],
      "metadata": {
        "id": "3wWqQA3OlvJA"
      },
      "execution_count": null,
      "outputs": []
    },
    {
      "cell_type": "markdown",
      "source": [
        "# 3. Feature trasnformation"
      ],
      "metadata": {
        "id": "zYbLEIVpyU2x"
      }
    },
    {
      "cell_type": "code",
      "execution_count": null,
      "metadata": {
        "id": "jUjeVzbrxjcH"
      },
      "outputs": [],
      "source": []
    }
  ]
}